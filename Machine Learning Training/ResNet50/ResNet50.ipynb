{
  "nbformat": 4,
  "nbformat_minor": 0,
  "metadata": {
    "accelerator": "GPU",
    "colab": {
      "name": "ResNet50.ipynb",
      "provenance": []
    },
    "kernelspec": {
      "display_name": "Python 3",
      "language": "python",
      "name": "python3"
    },
    "language_info": {
      "codemirror_mode": {
        "name": "ipython",
        "version": 3
      },
      "file_extension": ".py",
      "mimetype": "text/x-python",
      "name": "python",
      "nbconvert_exporter": "python",
      "pygments_lexer": "ipython3",
      "version": "3.6.12"
    }
  },
  "cells": [
    {
      "cell_type": "code",
      "metadata": {
        "colab": {
          "base_uri": "https://localhost:8080/"
        },
        "id": "pK0AeKGQWL0G",
        "outputId": "7bb6b30e-dbb8-42c1-c845-9eb1abcc6bf5"
      },
      "source": [
        "%tensorflow_version 1.x\n",
        "import tensorflow as tf\n",
        "device_name = tf.test.gpu_device_name()\n",
        "if device_name != '/device:GPU:0':\n",
        "  raise SystemError('GPU device not found')\n",
        "print('Found GPU at: {}'.format(device_name))"
      ],
      "execution_count": null,
      "outputs": [
        {
          "output_type": "stream",
          "text": [
            "TensorFlow 1.x selected.\n",
            "Found GPU at: /device:GPU:0\n"
          ],
          "name": "stdout"
        }
      ]
    },
    {
      "cell_type": "code",
      "metadata": {
        "id": "lPWTnc7CWL0L"
      },
      "source": [
        "# importing the libraries\n",
        "import numpy as np\n",
        "import matplotlib.pyplot as plt\n",
        "from glob import glob\n",
        "import os\n",
        "from os import listdir, makedirs\n",
        "from os.path import join, exists, expanduser\n",
        "\n",
        "from tensorflow.keras import applications\n",
        "from tensorflow.keras.preprocessing.image import ImageDataGenerator\n",
        "from tensorflow.keras import optimizers\n",
        "from tensorflow.keras.models import Sequential, Model\n",
        "from tensorflow.keras.layers import Dense, GlobalAveragePooling2D\n",
        "from tensorflow.keras.layers import Activation, Dropout, Flatten, Dense\n",
        "from tensorflow.keras import backend as K\n",
        "import tensorflow as tf\n",
        "import pickle\n",
        "from sklearn.metrics import confusion_matrix, classification_report, accuracy_score\n",
        "\n",
        "# fix the random generator for reproducibility\n",
        "import numpy as np\n",
        "np.random.seed(7)"
      ],
      "execution_count": null,
      "outputs": []
    },
    {
      "cell_type": "code",
      "metadata": {
        "id": "VPzupM3gWL0M"
      },
      "source": [
        "CLASS_NAMES = [\"Dry\",\"Wet\",\"Dirty\"]"
      ],
      "execution_count": null,
      "outputs": []
    },
    {
      "cell_type": "code",
      "metadata": {
        "colab": {
          "base_uri": "https://localhost:8080/"
        },
        "id": "gOy43sOEW3Ig",
        "outputId": "1de5c78c-d401-42fb-f0c9-7c59f97c6ef6"
      },
      "source": [
        "from google.colab import drive\n",
        "drive.mount('/content/drive')"
      ],
      "execution_count": null,
      "outputs": [
        {
          "output_type": "stream",
          "name": "stdout",
          "text": [
            "Mounted at /content/drive\n"
          ]
        }
      ]
    },
    {
      "cell_type": "code",
      "metadata": {
        "id": "SmqqwlWRWL0N"
      },
      "source": [
        "basePath = \"/content/drive/MyDrive/OIP_Dataset\""
      ],
      "execution_count": null,
      "outputs": []
    },
    {
      "cell_type": "code",
      "metadata": {
        "colab": {
          "base_uri": "https://localhost:8080/"
        },
        "id": "wzuRb79eWL0P",
        "outputId": "389b62e3-7ee7-4972-b99f-fa57a952881b"
      },
      "source": [
        "# build the paths to the data files\n",
        "trainXPath = os.path.join(basePath, \"trainX.cpickle\")\n",
        "testXPath = os.path.join(basePath, \"testX.cpickle\")\n",
        "trainYPath = os.path.join(basePath, \"trainY.cpickle\")\n",
        "testYPath = os.path.join(basePath, \"testY.cpickle\")\n",
        "\n",
        "# load the data files \n",
        "print(\"[INFO] loading data files...\")\n",
        "trainX = pickle.loads(open(trainXPath, \"rb\").read())\n",
        "trainY = pickle.loads(open(trainYPath, \"rb\").read())\n",
        "testX = pickle.loads(open(testXPath, \"rb\").read())\n",
        "testY = pickle.loads(open(testYPath, \"rb\").read())"
      ],
      "execution_count": null,
      "outputs": [
        {
          "output_type": "stream",
          "name": "stdout",
          "text": [
            "[INFO] loading data files...\n"
          ]
        }
      ]
    },
    {
      "cell_type": "code",
      "metadata": {
        "id": "ZMWIwFsKWL0R"
      },
      "source": [
        "# account for skew in the labeled data\n",
        "trainY = np.array(trainY)\n",
        "classTotals = trainY.sum(axis=0)\n",
        "classWeight = classTotals.max() / classTotals\n"
      ],
      "execution_count": null,
      "outputs": []
    },
    {
      "cell_type": "code",
      "metadata": {
        "id": "iI5h7n-TWL0S"
      },
      "source": [
        "# dimensions of our images.\n",
        "img_width, img_height = 224, 224 # we set the img_width and img_height according to the pretrained models we are\n",
        "# going to use. The input size for ResNet-50 is 224 by 224 by 3.\n",
        "\n",
        "batch_size = 32\n",
        "\n",
        "train_datagen = ImageDataGenerator(rotation_range=30, width_shift_range=0.1,\n",
        "                              height_shift_range=0.1, shear_range=0.2,\n",
        "                              zoom_range=0.2, horizontal_flip=True, \n",
        "                              vertical_flip=True, fill_mode=\"nearest\")\n",
        "\n",
        "val_datagen = ImageDataGenerator()\n",
        "\n",
        "mean = np.array([123.68, 116.779, 103.939], dtype=\"float32\")\n",
        "train_datagen.mean = mean\n",
        "val_datagen.mean = mean\n",
        "\n",
        "train_generator = train_datagen.flow(\n",
        "    trainX,\n",
        "    trainY,\n",
        "    batch_size=batch_size,\n",
        "    shuffle=True,\n",
        "    seed=42)\n",
        "\n",
        "\n",
        "test_generator = val_datagen.flow(\n",
        "    testX,\n",
        "    testY,\n",
        "    batch_size=batch_size,\n",
        "    shuffle=False,\n",
        "    seed=42)"
      ],
      "execution_count": null,
      "outputs": []
    },
    {
      "cell_type": "code",
      "metadata": {
        "colab": {
          "base_uri": "https://localhost:8080/"
        },
        "id": "z8ns46qEWL0T",
        "outputId": "d1a0c733-eceb-4812-9d0d-24f6606bddc5"
      },
      "source": [
        "print(len(trainX),len(testX))"
      ],
      "execution_count": null,
      "outputs": [
        {
          "output_type": "stream",
          "name": "stdout",
          "text": [
            "3349 838\n"
          ]
        }
      ]
    },
    {
      "cell_type": "code",
      "metadata": {
        "colab": {
          "base_uri": "https://localhost:8080/"
        },
        "id": "HqOReV1OWL0V",
        "outputId": "9218187b-62ec-4f0a-fb1e-1802a944eaf1"
      },
      "source": [
        "# Define model with different applications\n",
        "from tensorflow.python.keras.layers import Dense, Flatten, GlobalAveragePooling2D,BatchNormalization,Dropout,Conv2D,MaxPool2D\n",
        "model = Sequential()\n",
        "\n",
        "model.add(applications.ResNet50(include_top=False,input_tensor=None,input_shape=(224,224,3),pooling='avg',classes = len(CLASS_NAMES),weights='imagenet'))\n",
        "model.add(Flatten())\n",
        "model.add(Dense(512, activation='relu'))\n",
        "model.add(Dropout(0.5))\n",
        "model.add(BatchNormalization())\n",
        "model.add(Dense(len(CLASS_NAMES), activation='sigmoid')) #sigmoid\n",
        "\n",
        "\n",
        "model.layers[0].trainable = False\n",
        "model.summary()"
      ],
      "execution_count": null,
      "outputs": [
        {
          "output_type": "stream",
          "name": "stdout",
          "text": [
            "Downloading data from https://storage.googleapis.com/tensorflow/keras-applications/resnet/resnet50_weights_tf_dim_ordering_tf_kernels_notop.h5\n",
            "94773248/94765736 [==============================] - 1s 0us/step\n",
            "94781440/94765736 [==============================] - 1s 0us/step\n",
            "Model: \"sequential\"\n",
            "_________________________________________________________________\n",
            "Layer (type)                 Output Shape              Param #   \n",
            "=================================================================\n",
            "resnet50 (Functional)        (None, 2048)              23587712  \n",
            "_________________________________________________________________\n",
            "module_wrapper (ModuleWrappe (None, 2048)              0         \n",
            "_________________________________________________________________\n",
            "module_wrapper_1 (ModuleWrap (None, 512)               1049088   \n",
            "_________________________________________________________________\n",
            "module_wrapper_2 (ModuleWrap (None, 512)               0         \n",
            "_________________________________________________________________\n",
            "module_wrapper_3 (ModuleWrap (None, 512)               2048      \n",
            "_________________________________________________________________\n",
            "module_wrapper_4 (ModuleWrap (None, 3)                 1539      \n",
            "=================================================================\n",
            "Total params: 24,640,387\n",
            "Trainable params: 1,051,651\n",
            "Non-trainable params: 23,588,736\n",
            "_________________________________________________________________\n"
          ]
        }
      ]
    },
    {
      "cell_type": "code",
      "metadata": {
        "id": "e6HT5shEWL0Y",
        "colab": {
          "base_uri": "https://localhost:8080/"
        },
        "outputId": "54414cc4-062b-40fd-bf18-5b2759298bc3"
      },
      "source": [
        "model.compile(optimizer=optimizers.Adam(lr=0.00009),loss='categorical_crossentropy',metrics=['accuracy'])\n"
      ],
      "execution_count": null,
      "outputs": [
        {
          "output_type": "stream",
          "name": "stderr",
          "text": [
            "/usr/local/lib/python3.7/dist-packages/keras/optimizer_v2/optimizer_v2.py:356: UserWarning: The `lr` argument is deprecated, use `learning_rate` instead.\n",
            "  \"The `lr` argument is deprecated, use `learning_rate` instead.\")\n"
          ]
        }
      ]
    },
    {
      "cell_type": "code",
      "metadata": {
        "colab": {
          "base_uri": "https://localhost:8080/"
        },
        "id": "LRqA5_OTWL0m",
        "outputId": "865dce19-0487-481d-8fd5-d79087750339"
      },
      "source": [
        "# Train model\n",
        "epochs = 64\n",
        "history = model.fit_generator(train_generator,validation_data=test_generator,\n",
        "                              epochs= epochs, steps_per_epoch=trainX.shape[0]//batch_size,verbose=1)"
      ],
      "execution_count": null,
      "outputs": [
        {
          "output_type": "stream",
          "name": "stderr",
          "text": [
            "/usr/local/lib/python3.7/dist-packages/keras/engine/training.py:1972: UserWarning: `Model.fit_generator` is deprecated and will be removed in a future version. Please use `Model.fit`, which supports generators.\n",
            "  warnings.warn('`Model.fit_generator` is deprecated and '\n"
          ]
        },
        {
          "output_type": "stream",
          "name": "stdout",
          "text": [
            "Epoch 1/64\n",
            "104/104 [==============================] - 88s 535ms/step - loss: 1.0410 - accuracy: 0.5568 - val_loss: 0.5879 - val_accuracy: 0.7601\n",
            "Epoch 2/64\n",
            "104/104 [==============================] - 54s 517ms/step - loss: 0.6959 - accuracy: 0.7193 - val_loss: 0.4730 - val_accuracy: 0.8079\n",
            "Epoch 3/64\n",
            "104/104 [==============================] - 54s 517ms/step - loss: 0.6088 - accuracy: 0.7501 - val_loss: 0.4092 - val_accuracy: 0.8437\n",
            "Epoch 4/64\n",
            "104/104 [==============================] - 54s 517ms/step - loss: 0.5276 - accuracy: 0.7878 - val_loss: 0.3745 - val_accuracy: 0.8640\n",
            "Epoch 5/64\n",
            "104/104 [==============================] - 54s 514ms/step - loss: 0.4754 - accuracy: 0.8074 - val_loss: 0.3700 - val_accuracy: 0.8640\n",
            "Epoch 6/64\n",
            "104/104 [==============================] - 54s 517ms/step - loss: 0.4417 - accuracy: 0.8224 - val_loss: 0.3236 - val_accuracy: 0.8795\n",
            "Epoch 7/64\n",
            "104/104 [==============================] - 53s 511ms/step - loss: 0.4330 - accuracy: 0.8263 - val_loss: 0.3023 - val_accuracy: 0.8938\n",
            "Epoch 8/64\n",
            "104/104 [==============================] - 53s 512ms/step - loss: 0.4215 - accuracy: 0.8309 - val_loss: 0.2946 - val_accuracy: 0.9010\n",
            "Epoch 9/64\n",
            "104/104 [==============================] - 53s 512ms/step - loss: 0.3768 - accuracy: 0.8493 - val_loss: 0.2754 - val_accuracy: 0.8998\n",
            "Epoch 10/64\n",
            "104/104 [==============================] - 53s 511ms/step - loss: 0.3790 - accuracy: 0.8456 - val_loss: 0.2710 - val_accuracy: 0.9045\n",
            "Epoch 11/64\n",
            "104/104 [==============================] - 54s 514ms/step - loss: 0.3603 - accuracy: 0.8553 - val_loss: 0.2747 - val_accuracy: 0.8986\n",
            "Epoch 12/64\n",
            "104/104 [==============================] - 54s 516ms/step - loss: 0.3366 - accuracy: 0.8652 - val_loss: 0.2636 - val_accuracy: 0.9010\n",
            "Epoch 13/64\n",
            "104/104 [==============================] - 54s 516ms/step - loss: 0.3371 - accuracy: 0.8692 - val_loss: 0.2442 - val_accuracy: 0.9129\n",
            "Epoch 14/64\n",
            "104/104 [==============================] - 54s 517ms/step - loss: 0.3121 - accuracy: 0.8809 - val_loss: 0.2481 - val_accuracy: 0.8950\n",
            "Epoch 15/64\n",
            "104/104 [==============================] - 53s 511ms/step - loss: 0.3248 - accuracy: 0.8773 - val_loss: 0.2408 - val_accuracy: 0.9165\n",
            "Epoch 16/64\n",
            "104/104 [==============================] - 53s 511ms/step - loss: 0.3090 - accuracy: 0.8836 - val_loss: 0.2411 - val_accuracy: 0.9153\n",
            "Epoch 17/64\n",
            "104/104 [==============================] - 53s 513ms/step - loss: 0.2873 - accuracy: 0.8915 - val_loss: 0.2441 - val_accuracy: 0.9021\n",
            "Epoch 18/64\n",
            "104/104 [==============================] - 54s 514ms/step - loss: 0.2882 - accuracy: 0.8927 - val_loss: 0.2296 - val_accuracy: 0.9093\n",
            "Epoch 19/64\n",
            "104/104 [==============================] - 53s 509ms/step - loss: 0.2939 - accuracy: 0.8797 - val_loss: 0.2288 - val_accuracy: 0.9057\n",
            "Epoch 20/64\n",
            "104/104 [==============================] - 53s 512ms/step - loss: 0.2789 - accuracy: 0.8897 - val_loss: 0.2131 - val_accuracy: 0.9189\n",
            "Epoch 21/64\n",
            "104/104 [==============================] - 53s 512ms/step - loss: 0.2654 - accuracy: 0.8993 - val_loss: 0.2185 - val_accuracy: 0.9200\n",
            "Epoch 22/64\n",
            "104/104 [==============================] - 53s 511ms/step - loss: 0.2621 - accuracy: 0.8969 - val_loss: 0.2274 - val_accuracy: 0.9093\n",
            "Epoch 23/64\n",
            "104/104 [==============================] - 53s 511ms/step - loss: 0.2670 - accuracy: 0.8939 - val_loss: 0.2005 - val_accuracy: 0.9248\n",
            "Epoch 24/64\n",
            "104/104 [==============================] - 53s 512ms/step - loss: 0.2527 - accuracy: 0.9056 - val_loss: 0.2230 - val_accuracy: 0.9189\n",
            "Epoch 25/64\n",
            "104/104 [==============================] - 56s 533ms/step - loss: 0.2611 - accuracy: 0.9023 - val_loss: 0.1983 - val_accuracy: 0.9296\n",
            "Epoch 26/64\n",
            "104/104 [==============================] - 55s 527ms/step - loss: 0.2406 - accuracy: 0.9090 - val_loss: 0.1959 - val_accuracy: 0.9308\n",
            "Epoch 27/64\n",
            "104/104 [==============================] - 55s 523ms/step - loss: 0.2385 - accuracy: 0.9074 - val_loss: 0.1949 - val_accuracy: 0.9356\n",
            "Epoch 28/64\n",
            "104/104 [==============================] - 55s 528ms/step - loss: 0.2308 - accuracy: 0.9126 - val_loss: 0.2046 - val_accuracy: 0.9320\n",
            "Epoch 29/64\n",
            "104/104 [==============================] - 55s 530ms/step - loss: 0.2326 - accuracy: 0.9144 - val_loss: 0.1925 - val_accuracy: 0.9320\n",
            "Epoch 30/64\n",
            "104/104 [==============================] - 55s 526ms/step - loss: 0.2304 - accuracy: 0.9084 - val_loss: 0.1849 - val_accuracy: 0.9356\n",
            "Epoch 31/64\n",
            "104/104 [==============================] - 55s 523ms/step - loss: 0.2215 - accuracy: 0.9219 - val_loss: 0.1860 - val_accuracy: 0.9320\n",
            "Epoch 32/64\n",
            "104/104 [==============================] - 55s 524ms/step - loss: 0.2276 - accuracy: 0.9129 - val_loss: 0.1915 - val_accuracy: 0.9332\n",
            "Epoch 33/64\n",
            "104/104 [==============================] - 53s 509ms/step - loss: 0.2175 - accuracy: 0.9165 - val_loss: 0.1907 - val_accuracy: 0.9308\n",
            "Epoch 34/64\n",
            "104/104 [==============================] - 53s 511ms/step - loss: 0.2061 - accuracy: 0.9246 - val_loss: 0.1892 - val_accuracy: 0.9368\n",
            "Epoch 35/64\n",
            "104/104 [==============================] - 54s 515ms/step - loss: 0.2219 - accuracy: 0.9180 - val_loss: 0.2101 - val_accuracy: 0.9200\n",
            "Epoch 36/64\n",
            "104/104 [==============================] - 53s 508ms/step - loss: 0.2051 - accuracy: 0.9255 - val_loss: 0.1757 - val_accuracy: 0.9391\n",
            "Epoch 37/64\n",
            "104/104 [==============================] - 53s 505ms/step - loss: 0.2022 - accuracy: 0.9270 - val_loss: 0.1814 - val_accuracy: 0.9368\n",
            "Epoch 38/64\n",
            "104/104 [==============================] - 53s 506ms/step - loss: 0.2016 - accuracy: 0.9331 - val_loss: 0.1837 - val_accuracy: 0.9368\n",
            "Epoch 39/64\n",
            "104/104 [==============================] - 53s 508ms/step - loss: 0.2013 - accuracy: 0.9264 - val_loss: 0.1757 - val_accuracy: 0.9403\n",
            "Epoch 40/64\n",
            "104/104 [==============================] - 53s 509ms/step - loss: 0.1982 - accuracy: 0.9273 - val_loss: 0.1661 - val_accuracy: 0.9427\n",
            "Epoch 41/64\n",
            "104/104 [==============================] - 54s 517ms/step - loss: 0.1946 - accuracy: 0.9328 - val_loss: 0.1712 - val_accuracy: 0.9379\n",
            "Epoch 42/64\n",
            "104/104 [==============================] - 53s 510ms/step - loss: 0.1896 - accuracy: 0.9319 - val_loss: 0.1607 - val_accuracy: 0.9451\n",
            "Epoch 43/64\n",
            "104/104 [==============================] - 53s 509ms/step - loss: 0.1838 - accuracy: 0.9310 - val_loss: 0.1697 - val_accuracy: 0.9356\n",
            "Epoch 44/64\n",
            "104/104 [==============================] - 53s 510ms/step - loss: 0.1814 - accuracy: 0.9340 - val_loss: 0.1707 - val_accuracy: 0.9368\n",
            "Epoch 45/64\n",
            "104/104 [==============================] - 53s 507ms/step - loss: 0.1749 - accuracy: 0.9361 - val_loss: 0.1640 - val_accuracy: 0.9487\n",
            "Epoch 46/64\n",
            "104/104 [==============================] - 53s 505ms/step - loss: 0.1865 - accuracy: 0.9304 - val_loss: 0.1648 - val_accuracy: 0.9415\n",
            "Epoch 47/64\n",
            "104/104 [==============================] - 53s 506ms/step - loss: 0.1777 - accuracy: 0.9415 - val_loss: 0.1588 - val_accuracy: 0.9475\n",
            "Epoch 48/64\n",
            "104/104 [==============================] - 52s 503ms/step - loss: 0.1944 - accuracy: 0.9270 - val_loss: 0.1680 - val_accuracy: 0.9403\n",
            "Epoch 49/64\n",
            "104/104 [==============================] - 53s 511ms/step - loss: 0.1767 - accuracy: 0.9322 - val_loss: 0.1572 - val_accuracy: 0.9499\n",
            "Epoch 50/64\n",
            "104/104 [==============================] - 54s 521ms/step - loss: 0.1811 - accuracy: 0.9292 - val_loss: 0.1696 - val_accuracy: 0.9415\n",
            "Epoch 51/64\n",
            "104/104 [==============================] - 54s 519ms/step - loss: 0.1811 - accuracy: 0.9304 - val_loss: 0.1700 - val_accuracy: 0.9475\n",
            "Epoch 52/64\n",
            "104/104 [==============================] - 54s 517ms/step - loss: 0.1788 - accuracy: 0.9385 - val_loss: 0.1552 - val_accuracy: 0.9487\n",
            "Epoch 53/64\n",
            "104/104 [==============================] - 54s 515ms/step - loss: 0.1714 - accuracy: 0.9403 - val_loss: 0.1540 - val_accuracy: 0.9487\n",
            "Epoch 54/64\n",
            "104/104 [==============================] - 53s 512ms/step - loss: 0.1655 - accuracy: 0.9394 - val_loss: 0.1448 - val_accuracy: 0.9570\n",
            "Epoch 55/64\n",
            "104/104 [==============================] - 53s 508ms/step - loss: 0.1602 - accuracy: 0.9421 - val_loss: 0.1503 - val_accuracy: 0.9547\n",
            "Epoch 56/64\n",
            "104/104 [==============================] - 53s 512ms/step - loss: 0.1592 - accuracy: 0.9412 - val_loss: 0.1512 - val_accuracy: 0.9499\n",
            "Epoch 57/64\n",
            "104/104 [==============================] - 53s 511ms/step - loss: 0.1670 - accuracy: 0.9409 - val_loss: 0.1462 - val_accuracy: 0.9487\n",
            "Epoch 58/64\n",
            "104/104 [==============================] - 53s 513ms/step - loss: 0.1557 - accuracy: 0.9454 - val_loss: 0.1418 - val_accuracy: 0.9535\n",
            "Epoch 59/64\n",
            "104/104 [==============================] - 54s 516ms/step - loss: 0.1591 - accuracy: 0.9430 - val_loss: 0.1485 - val_accuracy: 0.9463\n",
            "Epoch 60/64\n",
            "104/104 [==============================] - 53s 513ms/step - loss: 0.1780 - accuracy: 0.9334 - val_loss: 0.1394 - val_accuracy: 0.9511\n",
            "Epoch 61/64\n",
            "104/104 [==============================] - 54s 519ms/step - loss: 0.1726 - accuracy: 0.9382 - val_loss: 0.1475 - val_accuracy: 0.9511\n",
            "Epoch 62/64\n",
            "104/104 [==============================] - 52s 501ms/step - loss: 0.1617 - accuracy: 0.9409 - val_loss: 0.1575 - val_accuracy: 0.9427\n",
            "Epoch 63/64\n",
            "104/104 [==============================] - 53s 507ms/step - loss: 0.1547 - accuracy: 0.9408 - val_loss: 0.1406 - val_accuracy: 0.9535\n",
            "Epoch 64/64\n",
            "104/104 [==============================] - 52s 499ms/step - loss: 0.1525 - accuracy: 0.9439 - val_loss: 0.1542 - val_accuracy: 0.9403\n"
          ]
        }
      ]
    },
    {
      "cell_type": "code",
      "metadata": {
        "colab": {
          "base_uri": "https://localhost:8080/"
        },
        "id": "e60fTT9TgMff",
        "outputId": "2732ed0d-1eb0-467c-8683-7e988820e812"
      },
      "source": [
        "# reset the testing generator and evaluate the network after\n",
        "# fine-tuning just the network head\n",
        "print(\"[INFO] evaluating after fine-tuning network head...\")\n",
        "test_generator.reset()\n",
        "predIdxs = model.predict(test_generator, steps=(testX.shape[0] // batch_size) + 1)\n",
        "predIdxs = np.argmax(predIdxs, axis=1)\n",
        "print(len(predIdxs))\n",
        "\n",
        "#print the classification report \n",
        "print(classification_report(np.argmax(testY, axis=1), predIdxs, target_names=CLASS_NAMES))"
      ],
      "execution_count": null,
      "outputs": [
        {
          "output_type": "stream",
          "name": "stdout",
          "text": [
            "[INFO] evaluating after fine-tuning network head...\n",
            "838\n",
            "              precision    recall  f1-score   support\n",
            "\n",
            "         Dry       0.96      0.92      0.94       321\n",
            "         Wet       0.88      0.94      0.91       246\n",
            "       Dirty       0.97      0.97      0.97       271\n",
            "\n",
            "    accuracy                           0.94       838\n",
            "   macro avg       0.94      0.94      0.94       838\n",
            "weighted avg       0.94      0.94      0.94       838\n",
            "\n"
          ]
        }
      ]
    },
    {
      "cell_type": "code",
      "metadata": {
        "colab": {
          "base_uri": "https://localhost:8080/",
          "height": 313
        },
        "id": "A_IX1WvUnjMt",
        "outputId": "2ed0aea6-48ff-4486-be1e-bbf674c4b464"
      },
      "source": [
        "from sklearn.metrics import ConfusionMatrixDisplay\n",
        "from sklearn.metrics import confusion_matrix\n",
        "from sklearn.metrics import plot_confusion_matrix\n",
        "import matplotlib.pyplot as plt\n",
        "from matplotlib.pyplot import figure\n",
        "\n",
        "\n",
        "y_test = np.argmax(testY, axis=1)\n",
        "cm = confusion_matrix(y_test, predIdxs)\n",
        "\n",
        "disp = ConfusionMatrixDisplay(confusion_matrix=cm, display_labels=CLASS_NAMES)\n",
        "figure(figsize=(50, 50), dpi=80)\n",
        "disp.plot(cmap=plt.cm.Blues,values_format='')\n",
        "\n",
        "\n",
        "plt.show"
      ],
      "execution_count": null,
      "outputs": [
        {
          "output_type": "execute_result",
          "data": {
            "text/plain": [
              "<function matplotlib.pyplot.show>"
            ]
          },
          "metadata": {},
          "execution_count": 18
        },
        {
          "output_type": "display_data",
          "data": {
            "text/plain": [
              "<Figure size 4000x4000 with 0 Axes>"
            ]
          },
          "metadata": {}
        },
        {
          "output_type": "display_data",
          "data": {
            "image/png": "[encoded data removed]",
            "text/plain": [
              "<Figure size 432x288 with 2 Axes>"
            ]
          },
          "metadata": {
            "needs_background": "light"
          }
        }
      ]
    },
    {
      "cell_type": "code",
      "metadata": {
        "colab": {
          "base_uri": "https://localhost:8080/",
          "height": 573
        },
        "id": "2IozvKvonllG",
        "outputId": "dcb55bc1-aa46-49dd-a741-1f9d0d0fa37f"
      },
      "source": [
        "# Plot the train and validation accuracies\n",
        "plt.title('model accuracy')\n",
        "plt.ylabel('accuracy')\n",
        "plt.xlabel('epoch')\n",
        "plt.plot(history.history['accuracy'], label='train acc')\n",
        "plt.plot(history.history['val_accuracy'], label='val acc')\n",
        "plt.legend()\n",
        "plt.show()\n",
        "\n",
        "# Plot the train and validation loss\n",
        "plt.title('model loss')\n",
        "plt.ylabel('loss')\n",
        "plt.xlabel('epoch')\n",
        "plt.plot(history.history['loss'], label='train loss')\n",
        "plt.plot(history.history['val_loss'], label='val loss')\n",
        "plt.legend()\n",
        "plt.show()"
      ],
      "execution_count": null,
      "outputs": [
        {
          "output_type": "display_data",
          "data": {
            "image/png": "[encoded data removed]",
            "text/plain": [
              "<Figure size 432x288 with 1 Axes>"
            ]
          },
          "metadata": {
            "needs_background": "light"
          }
        },
        {
          "output_type": "display_data",
          "data": {
            "image/png": "[encoded data removed]",
            "text/plain": [
              "<Figure size 432x288 with 1 Axes>"
            ]
          },
          "metadata": {
            "needs_background": "light"
          }
        }
      ]
    },
    {
      "cell_type": "code",
      "metadata": {
        "id": "r4hsO0bu0YjP"
      },
      "source": [
        ""
      ],
      "execution_count": null,
      "outputs": []
    }
  ]
}